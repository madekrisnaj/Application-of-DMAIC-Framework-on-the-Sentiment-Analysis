{
  "nbformat": 4,
  "nbformat_minor": 0,
  "metadata": {
    "colab": {
      "name": "Scraping from google playstore.ipynb",
      "provenance": [],
      "collapsed_sections": []
    },
    "kernelspec": {
      "name": "python3",
      "display_name": "Python 3"
    },
    "language_info": {
      "name": "python"
    }
  },
  "cells": [
    {
      "cell_type": "markdown",
      "metadata": {
        "id": "1c0da7z66nO4"
      },
      "source": [
        "# **Scraping Data**"
      ]
    },
    {
      "cell_type": "code",
      "metadata": {
        "id": "Rceq0JpHwTOr",
        "colab": {
          "base_uri": "https://localhost:8080/"
        },
        "outputId": "ee14c054-a060-4d23-dfc3-ab1a172dd2c0"
      },
      "source": [
        "pip install 'google-play-scraper'"
      ],
      "execution_count": null,
      "outputs": [
        {
          "output_type": "stream",
          "text": [
            "Collecting google-play-scraper\n",
            "  Downloading google-play-scraper-1.0.1.tar.gz (52 kB)\n",
            "\u001b[?25l\r\u001b[K     |██████▎                         | 10 kB 29.7 MB/s eta 0:00:01\r\u001b[K     |████████████▌                   | 20 kB 32.0 MB/s eta 0:00:01\r\u001b[K     |██████████████████▉             | 30 kB 32.8 MB/s eta 0:00:01\r\u001b[K     |█████████████████████████       | 40 kB 35.4 MB/s eta 0:00:01\r\u001b[K     |███████████████████████████████▎| 51 kB 37.7 MB/s eta 0:00:01\r\u001b[K     |████████████████████████████████| 52 kB 1.1 MB/s \n",
            "\u001b[?25hBuilding wheels for collected packages: google-play-scraper\n",
            "  Building wheel for google-play-scraper (setup.py) ... \u001b[?25l\u001b[?25hdone\n",
            "  Created wheel for google-play-scraper: filename=google_play_scraper-1.0.1-py3-none-any.whl size=24193 sha256=0d9129b2c5c7030e3e7fd643193615ad7f3dfa1c35b996bf18f3e3621f864e35\n",
            "  Stored in directory: /root/.cache/pip/wheels/05/8f/af/b45bcc354aac4f16e943658c14517ca439f5b18b766361a260\n",
            "Successfully built google-play-scraper\n",
            "Installing collected packages: google-play-scraper\n",
            "Successfully installed google-play-scraper-1.0.1\n"
          ],
          "name": "stdout"
        }
      ]
    },
    {
      "cell_type": "code",
      "metadata": {
        "id": "ZysazIX5wZzj"
      },
      "source": [
        "#Import library from google_play_scrapper\n",
        "from google_play_scraper import Sort, reviews\n",
        "\n",
        "#Get the data from google play store\n",
        "result, continuation_token = reviews(\n",
        "    '', #you can fill in this section with the application you want to scrapping\n",
        "    lang='id',\n",
        "    country='id',\n",
        "    count = 100000,\n",
        ")"
      ],
      "execution_count": null,
      "outputs": []
    },
    {
      "cell_type": "code",
      "metadata": {
        "id": "dVvpawmP2dv5"
      },
      "source": [
        "#Show the scraping result\n",
        "result"
      ],
      "execution_count": null,
      "outputs": []
    },
    {
      "cell_type": "code",
      "metadata": {
        "id": "dMxHrsaF2f9d"
      },
      "source": [
        "#convert result to dataframe format\n",
        "import pandas as pd\n",
        "dataframe = pd.DataFrame.from_dict(result)"
      ],
      "execution_count": null,
      "outputs": []
    },
    {
      "cell_type": "code",
      "metadata": {
        "id": "ob2fLtdSaQVu"
      },
      "source": [
        "#Show the dataframe\n",
        "dataframe"
      ],
      "execution_count": null,
      "outputs": []
    },
    {
      "cell_type": "code",
      "metadata": {
        "id": "p2dT8gpJgwF4",
        "colab": {
          "base_uri": "https://localhost:8080/"
        },
        "outputId": "fff736eb-b5d6-44fd-9481-c0f5be5b2613"
      },
      "source": [
        "#Check the data type\n",
        "dataframe.info()"
      ],
      "execution_count": null,
      "outputs": [
        {
          "output_type": "stream",
          "text": [
            "<class 'pandas.core.frame.DataFrame'>\n",
            "RangeIndex: 100000 entries, 0 to 99999\n",
            "Data columns (total 10 columns):\n",
            " #   Column                Non-Null Count   Dtype         \n",
            "---  ------                --------------   -----         \n",
            " 0   reviewId              100000 non-null  object        \n",
            " 1   userName              100000 non-null  object        \n",
            " 2   userImage             100000 non-null  object        \n",
            " 3   content               100000 non-null  object        \n",
            " 4   score                 100000 non-null  int64         \n",
            " 5   thumbsUpCount         100000 non-null  int64         \n",
            " 6   reviewCreatedVersion  82070 non-null   object        \n",
            " 7   at                    100000 non-null  datetime64[ns]\n",
            " 8   replyContent          88726 non-null   object        \n",
            " 9   repliedAt             88726 non-null   datetime64[ns]\n",
            "dtypes: datetime64[ns](2), int64(2), object(6)\n",
            "memory usage: 7.6+ MB\n"
          ],
          "name": "stdout"
        }
      ]
    },
    {
      "cell_type": "code",
      "metadata": {
        "id": "GtDex40tQfBl"
      },
      "source": [
        "#Create a new column containing only month and year information\n",
        "dataframe['Month'] = dataframe['at'].dt.month\n",
        "dataframe['Year'] = dataframe['at'].dt.year"
      ],
      "execution_count": null,
      "outputs": []
    },
    {
      "cell_type": "code",
      "metadata": {
        "id": "Mvw10wnm4foY"
      },
      "source": [
        "#feature selection\n",
        "data = dataframe[['content','Month','Year','score']]"
      ],
      "execution_count": null,
      "outputs": []
    },
    {
      "cell_type": "code",
      "metadata": {
        "id": "djAIpe5Q5nmV"
      },
      "source": [
        "data"
      ],
      "execution_count": null,
      "outputs": []
    },
    {
      "cell_type": "code",
      "metadata": {
        "id": "vOSw41mB5oSk",
        "colab": {
          "base_uri": "https://localhost:8080/",
          "height": 35
        },
        "outputId": "5ddacda7-5757-4e7e-a410-f4663b68feb9"
      },
      "source": [
        "#Check one there is no truncated data\n",
        "data['content'][0]"
      ],
      "execution_count": null,
      "outputs": [
        {
          "output_type": "execute_result",
          "data": {
            "application/vnd.google.colaboratory.intrinsic+json": {
              "type": "string"
            },
            "text/plain": [
              "'Slalu ,,srh aktifasi trs knpa ya aplikasi saat ini bgni saja'"
            ]
          },
          "metadata": {
            "tags": []
          },
          "execution_count": 10
        }
      ]
    },
    {
      "cell_type": "code",
      "metadata": {
        "id": "FuE54aLr50II"
      },
      "source": [
        "#Rename column data name\n",
        "data = data.rename(columns={'content':'Comment'})"
      ],
      "execution_count": null,
      "outputs": []
    },
    {
      "cell_type": "code",
      "metadata": {
        "id": "D5Ev9kmu6eRN"
      },
      "source": [
        "data"
      ],
      "execution_count": null,
      "outputs": []
    },
    {
      "cell_type": "markdown",
      "metadata": {
        "id": "O8UGrbx88TFk"
      },
      "source": [
        "The analysis in this study will only use data in the 2021 timeframe, therefore we delete the data obtained in 2020"
      ]
    },
    {
      "cell_type": "code",
      "metadata": {
        "id": "jy2vQgq7cNd4"
      },
      "source": [
        "data = data[data['Year']!=2020]"
      ],
      "execution_count": null,
      "outputs": []
    },
    {
      "cell_type": "code",
      "metadata": {
        "id": "UdL8Q1lRcTp4"
      },
      "source": [
        "data"
      ],
      "execution_count": null,
      "outputs": []
    },
    {
      "cell_type": "code",
      "metadata": {
        "id": "t4-H1Jjn-ywu"
      },
      "source": [
        "#export data to excel\n",
        "data.to_excel('data.xlsx', index = False)"
      ],
      "execution_count": null,
      "outputs": []
    }
  ]
}